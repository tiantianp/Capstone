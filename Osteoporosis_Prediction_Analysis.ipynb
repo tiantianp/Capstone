{
 "cells": [
  {
   "cell_type": "code",
   "execution_count": null,
   "id": "cebc3b51",
   "metadata": {},
   "outputs": [],
   "source": [
    "# Import necessary libraries\n",
    "import pandas as pd\n",
    "import matplotlib.pyplot as plt\n",
    "import seaborn as sns\n",
    "from sklearn.model_selection import train_test_split\n",
    "from sklearn.linear_model import LogisticRegression\n",
    "from sklearn.metrics import accuracy_score, confusion_matrix, roc_auc_score, classification_report\n"
   ]
  },
  {
   "cell_type": "code",
   "execution_count": null,
   "id": "0b29d4a8",
   "metadata": {},
   "outputs": [],
   "source": [
    "# Load the dataset\n",
    "file_path = '/mnt/data/Osteo.csv'\n",
    "osteoporosis_data = pd.read_csv(file_path)\n",
    "osteoporosis_data.head()\n"
   ]
  },
  {
   "cell_type": "code",
   "execution_count": null,
   "id": "e16b2a83",
   "metadata": {},
   "outputs": [],
   "source": [
    "# Convert Gender to numeric (1 for Male, 0 for Female)\n",
    "osteoporosis_data['Gender'] = osteoporosis_data['Gender'].map({'Men': 1, 'Women': 0})\n",
    "\n",
    "# Drop rows with missing values\n",
    "osteoporosis_data.dropna(inplace=True)\n",
    "osteoporosis_data.head()\n"
   ]
  },
  {
   "cell_type": "code",
   "execution_count": null,
   "id": "baf5243b",
   "metadata": {},
   "outputs": [],
   "source": [
    "# Exploratory Data Analysis (EDA)\n",
    "plt.figure(figsize=(8, 6))\n",
    "sns.boxplot(x='Osteop', y='Calcium', data=osteoporosis_data)\n",
    "plt.title('Calcium Intake vs Osteoporosis')\n",
    "plt.xlabel('Osteoporosis (0 = No, 1 = Yes)')\n",
    "plt.ylabel('Calcium Intake')\n",
    "plt.show()\n"
   ]
  },
  {
   "cell_type": "code",
   "execution_count": null,
   "id": "e825c860",
   "metadata": {},
   "outputs": [],
   "source": [
    "# Feature Selection\n",
    "X = osteoporosis_data[['Calcium', 'RIDAGEYR', 'Gender']]\n",
    "y = osteoporosis_data['Osteop']\n"
   ]
  },
  {
   "cell_type": "code",
   "execution_count": null,
   "id": "d91db915",
   "metadata": {},
   "outputs": [],
   "source": [
    "# Split the data into training and testing sets\n",
    "X_train, X_test, y_train, y_test = train_test_split(X, y, test_size=0.2, random_state=42)\n"
   ]
  },
  {
   "cell_type": "code",
   "execution_count": null,
   "id": "12b6c385",
   "metadata": {},
   "outputs": [],
   "source": [
    "# Logistic Regression Model\n",
    "logistic_model = LogisticRegression()\n",
    "logistic_model.fit(X_train, y_train)\n"
   ]
  },
  {
   "cell_type": "code",
   "execution_count": null,
   "id": "d058ed8c",
   "metadata": {},
   "outputs": [],
   "source": [
    "# Predictions and Evaluation\n",
    "y_pred = logistic_model.predict(X_test)\n",
    "accuracy = accuracy_score(y_test, y_pred)\n",
    "conf_matrix = confusion_matrix(y_test, y_pred)\n",
    "roc_auc = roc_auc_score(y_test, y_pred)\n",
    "classification_rep = classification_report(y_test, y_pred)\n"
   ]
  },
  {
   "cell_type": "code",
   "execution_count": null,
   "id": "c8a20085",
   "metadata": {},
   "outputs": [],
   "source": [
    "# Display Results\n",
    "print(f'Accuracy: {accuracy}')\n",
    "print(f'Confusion Matrix:\\n{conf_matrix}')\n",
    "print(f'ROC AUC Score: {roc_auc}')\n",
    "print(f'Classification Report:\\n{classification_rep}')\n"
   ]
  }
 ],
 "metadata": {},
 "nbformat": 4,
 "nbformat_minor": 5
}
